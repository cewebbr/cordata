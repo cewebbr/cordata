{
 "cells": [
  {
   "cell_type": "markdown",
   "id": "9625038d-3dde-47a6-b548-91af32897665",
   "metadata": {},
   "source": [
    "# Padronização dos dados com o Portal Brasileiro de Dados Abertos (CGU)\n",
    "### Limpeza da lista de instituições e construção da correspondência entre temas da CGU e da Câmara dos Deputados"
   ]
  },
  {
   "cell_type": "markdown",
   "id": "8998de28-5631-40a7-a24f-00a601272ad7",
   "metadata": {},
   "source": [
    "Queremos padronizar o que for possível dos nossos dados com os dados daqui: <https://dados.gov.br/dados/reusos>. "
   ]
  },
  {
   "cell_type": "code",
   "execution_count": 1,
   "id": "eeb6bcdc-0fc0-487f-91bc-feb6b7a08984",
   "metadata": {},
   "outputs": [],
   "source": [
    "import json"
   ]
  },
  {
   "cell_type": "markdown",
   "id": "62c321c8-4fbe-4acc-9b4c-cc284f6bd7cd",
   "metadata": {},
   "source": [
    "## Functions"
   ]
  },
  {
   "cell_type": "code",
   "execution_count": 2,
   "id": "1b43ef56-9ff3-4e9a-b354-f5fcfa25bd60",
   "metadata": {},
   "outputs": [],
   "source": [
    "def load_json(filename):\n",
    "    \n",
    "    with open(filename, 'r') as f:\n",
    "        data = json.load(f)\n",
    "    \n",
    "    return data"
   ]
  },
  {
   "cell_type": "markdown",
   "id": "4da8e071-96f5-4c0e-868d-a83c406bb57b",
   "metadata": {
    "tags": []
   },
   "source": [
    "## ETL institution data"
   ]
  },
  {
   "cell_type": "code",
   "execution_count": 3,
   "id": "80729026-850e-4bb5-a05d-1dfd25c33788",
   "metadata": {},
   "outputs": [],
   "source": [
    "from glob import glob\n",
    "from collections import defaultdict"
   ]
  },
  {
   "cell_type": "code",
   "execution_count": 4,
   "id": "4f9b3472-e9ac-4cbc-9ec0-5882bb98b169",
   "metadata": {},
   "outputs": [],
   "source": [
    "# Load institution names:\n",
    "inst_files = glob('../dados/aux/organizacao_*.json')\n",
    "institutions = []\n",
    "ids = []\n",
    "for f in inst_files:\n",
    "    institutions += [(i['titulo'], i['id']) for i in load_json(f)]\n",
    "# Sort list:\n",
    "institutions = sorted(institutions)\n",
    "# Create translator (name > ID):\n",
    "inst2id = defaultdict(lambda: None, dict(institutions))"
   ]
  },
  {
   "cell_type": "markdown",
   "id": "16df4e0e-24ac-44f0-8a4d-f8a8e13b35b3",
   "metadata": {},
   "source": [
    "### Checks"
   ]
  },
  {
   "cell_type": "code",
   "execution_count": 5,
   "id": "6f741f70-3f28-45c8-963c-ecdd51dc58b1",
   "metadata": {},
   "outputs": [
    {
     "data": {
      "text/plain": [
       "True"
      ]
     },
     "execution_count": 5,
     "metadata": {},
     "output_type": "execute_result"
    }
   ],
   "source": [
    "len(institutions) == len(set(institutions))"
   ]
  },
  {
   "cell_type": "markdown",
   "id": "b92a58c8-21bb-412b-bf22-23622bd202e1",
   "metadata": {},
   "source": [
    "### List"
   ]
  },
  {
   "cell_type": "code",
   "execution_count": 6,
   "id": "9c99cc53-2124-4bc3-8898-c112c06ed0f0",
   "metadata": {},
   "outputs": [
    {
     "name": "stdout",
     "output_type": "stream",
     "text": [
      "Advocacia-Geral da União - AGU\n",
      "Agência Espacial Brasileira - AEB\n",
      "Agência Nacional de Aviação Civil - ANAC\n",
      "Agência Nacional de Energia Elétrica - ANEEL\n",
      "Agência Nacional de Mineração\n",
      "Agência Nacional de Saúde Suplementar\n",
      "Agência Nacional de Telecomunicações\n",
      "Agência Nacional de Transportes Aquaviários\n",
      "Agência Nacional de Transportes Terrestres\n",
      "Agência Nacional de Vigilância Sanitária - ANVISA\n",
      "Agência Nacional de Águas e Saneamento Básico\n",
      "Agência Nacional do Cinema\n",
      "Agência Nacional do Petróleo, Gás Natural e Biocombustíveis - ANP\n",
      "Arquivo Nacional - AN\n",
      "Assembleia Legislativa de Minas Gerais - ALMG\n",
      "Casa Civil da Presidência da República\n",
      "Centro Federal de Educação Tecnológica - Celso Suckow da Fonseca - CEFET-RJ\n",
      "Centro Federal de Educação Tecnológica de Minas Gerais - CEFET-MG\n",
      "Centro de Tecnologia Mineral\n",
      "Centro de Tecnologia da Informação Renato Archer\n",
      "Comissão de Valores Mobiliários\n",
      "Conselho Administrativo de Defesa Econômica - Cade\n",
      "Conselho Nacional de Desenvolvimento Científico e Tecnológico\n",
      "Conselho Nacional do Ministério Público - CNMP\n",
      "Conselho de Arquitetura e Urbanismo de São Paulo - CAU/SP\n",
      "Conselho de Controle de Atividades Financeiras\n",
      "Controladoria-Geral da União\n",
      "Câmara Municipal de São Paulo - CMSP\n",
      "Câmara dos Deputados - CD\n",
      "Departamento Nacional de Infraestrutura de Transportes - DNIT\n",
      "Distrito Federal\n",
      "EBSERH - Filial Maternidade Escola Januário Cicco\n",
      "Empresa Brasileira de Pesquisa Agropecuária - Embrapa\n",
      "Empresa Mato-Grossense de Tecnologia da Informação\n",
      "Empresa de Pesquisa Energética - EPE\n",
      "Escola Nacional de Administração Pública - ENAP\n",
      "Escola Superior de Guerra\n",
      "Estado da Bahia - BA\n",
      "Estado de Pernambuco - PE\n",
      "Estado de São Paulo - SP\n",
      "Estado do Rio Grande do Sul - RS\n",
      "Faculdade Metropolis - MP\n",
      "Força Aérea Brasileira\n",
      "Fundação Alexandre de Gusmão - FUNAG\n",
      "Fundação Biblioteca Nacional - FBN\n",
      "Fundação Cultural Palmares - FCP\n",
      "Fundação Joaquim Nabuco - FUNDAJ\n",
      "Fundação Jorge Duprat Figueiredo, de Segurança e Medicina do Trabalho - FUNDACENTRO\n",
      "Fundação Nacional de Artes - FUNARTE\n",
      "Fundação Nacional de Saúde - Funasa\n",
      "Fundação Nacional do Índio - FUNAI\n",
      "Fundação Oswaldo Cruz\n",
      "Fundação Universidade Federal da Grande Dourados (UFGD)\n",
      "Fundação Universidade Federal de Roraima\n",
      "Fundação Universidade Federal de Sergipe - UFS\n",
      "Fundação Universidade Federal do ABC - UFABC\n",
      "Fundação Universidade Federal do Amapá\n",
      "Fundação Universidade de Brasília - UnB\n",
      "Fundo Nacional de Desenvolvimento da Educação\n",
      "Governo do Estado de Santa Catarina\n",
      "HUPES - Complexo Hospitalar Universitário Professor Edgard Santos\n",
      "Hospital Escola da Universidade Federal de Pelotas - HE/UFPEL\n",
      "Hospital Universitário Doutor Miguel Riet Corrêa Júnior\n",
      "Hospital Universitário Getúlio Vargas - UFAM\n",
      "Hospital Universitário Júlio Maria Bandeira de Mello - HUJB/UFCG\n",
      "Hospital Universitário Júlio Müller - HUJM\n",
      "Hospital Universitário Maria Aparecida Pedrossian\n",
      "Hospital Universitário Walter Cantídio da Universidade Federal do Ceará (CH-UFC)\n",
      "Hospital Universitário da Universidade Federal da Grande Dourados - HU-UFGD\n",
      "Hospital Universitário da Universidade Federal do Maranhão\n",
      "Hospital Universitário da Universidade Federal do Piauí - HU-UFPI\n",
      "Hospital Universitário da Universidade Federal do Vale do São Francisco  - HU-Univasf \n",
      "Hospital Universitário de Brasília - HUB-UnB\n",
      "Hospital Universitário de Lagarto - HUL-UFS\n",
      "Hospital das Clínicas da Universidade Federal de Pernambuco - HC-UFPE\n",
      "Hospital das Clínicas da Universidade Federal do Triângulo Mineiro (HC-UFTM)\n",
      "Hospital das Forças Armadas - HFA\n",
      "Hospital de Doenças Tropicais/UFT\n",
      "Imprensa Nacional - IN\n",
      "Instituto Benjamin Constant\n",
      "Instituto Brasileiro de Geografia e Estatística - IBGE\n",
      "Instituto Brasileiro de Informação em Ciência e Tecnologia - IBICT\n",
      "Instituto Brasileiro de Museus - IBRAM\n",
      "Instituto Brasileiro do Meio Ambiente e dos Recursos Naturais Renováveis - Ibama\n",
      "Instituto Brasileiro do Turismo - Embratur\n",
      "Instituto Chico Mendes de Conservação da Biodiversidade - ICMBio\n",
      "Instituto Federal de Alagoas - IFAL\n",
      "Instituto Federal de Educação, Ciência e Tecnologia Baiano - IFBAIANO\n",
      "Instituto Federal de Educação, Ciência e Tecnologia Catarinense - IFC\n",
      "Instituto Federal de Educação, Ciência e Tecnologia Farroupilha - IFFAR\n",
      "Instituto Federal de Educação, Ciência e Tecnologia Goiano - IF-GOIANO\n",
      "Instituto Federal de Educação, Ciência e Tecnologia Sul-Rio-Grandense\n",
      "Instituto Federal de Educação, Ciência e Tecnologia da Bahia - IFBA\n",
      "Instituto Federal de Educação, Ciência e Tecnologia da Paraíba - IFPB\n",
      "Instituto Federal de Educação, Ciência e Tecnologia de Brasília - IFB\n",
      "Instituto Federal de Educação, Ciência e Tecnologia de Goiás - IFG\n",
      "Instituto Federal de Educação, Ciência e Tecnologia de Mato Grosso - IFMT\n",
      "Instituto Federal de Educação, Ciência e Tecnologia de Minas Gerais - IFMG\n",
      "Instituto Federal de Educação, Ciência e Tecnologia de Pernambuco - IFPE\n",
      "Instituto Federal de Educação, Ciência e Tecnologia de Rondônia - IFRO\n",
      "Instituto Federal de Educação, Ciência e Tecnologia de Roraima - IFRR\n",
      "Instituto Federal de Educação, Ciência e Tecnologia de Santa Catarina - IFSC\n",
      "Instituto Federal de Educação, Ciência e Tecnologia de Sergipe - IFS\n",
      "Instituto Federal de Educação, Ciência e Tecnologia de São Paulo\n",
      "Instituto Federal de Educação, Ciência e Tecnologia do Acre - IFAC\n",
      "Instituto Federal de Educação, Ciência e Tecnologia do Amapá - IFAP\n",
      "Instituto Federal de Educação, Ciência e Tecnologia do Ceará - IFCE\n",
      "Instituto Federal de Educação, Ciência e Tecnologia do Mato Grosso do Sul - IFMS\n",
      "Instituto Federal de Educação, Ciência e Tecnologia do Norte de Minas Gerais - IFNMG\n",
      "Instituto Federal de Educação, Ciência e Tecnologia do Paraná\n",
      "Instituto Federal de Educação, Ciência e Tecnologia do Pará - IFPA\n",
      "Instituto Federal de Educação, Ciência e Tecnologia do Rio Grande do Norte - IFRN\n",
      "Instituto Federal de Educação, Ciência e Tecnologia do Rio de Janeiro - IFRJ\n",
      "Instituto Federal de Educação, Ciência e Tecnologia do Sertão Pernambucano - IFSPE\n",
      "Instituto Federal de Educação, Ciência e Tecnologia do Sudeste de Minas Gerais\n",
      "Instituto Federal de Educação, Ciência e Tecnologia do Sul de Minas Gerais - IFSULDEMINAS\n",
      "Instituto Federal de Educação, Ciência e Tecnologia do Triângulo Mineiro - IFTM\n",
      "Instituto Federal do Espírito Santo-IFES\n",
      "Instituto Federal do Piauí - IFPI\n",
      "Instituto Nacional da Propriedade Industrial - INPI\n",
      "Instituto Nacional de Colonização e Reforma Agrária\n",
      "Instituto Nacional de Metrologia, Qualidade e Tecnologia\n",
      "Instituto Nacional de Pesquisas Espaciais - INPE\n",
      "Instituto Nacional de Pesquisas da Amazônia - INPA\n",
      "Instituto Nacional de Tecnologia\n",
      "Instituto Nacional de Tecnologia da Informação - ITI\n",
      "Instituto Nacional do Seguro Social\n",
      "Instituto de Desenvolvimento Urbano de Canaã dos Carajás\n",
      "Instituto de Pesquisas Jardim Botânico do Rio de Janeiro - JBRJ\n",
      "Instituto do Patrimônio Histórico e Artístico Nacional - IPHAN\n",
      "Marinha do Brasil\n",
      "Maternidade Climério de Oliveira (MCO-UFBA/Ebserh)\n",
      "Maternidade Escola Assis Chateaubriand da Universidade Federal do Ceará (CH-UFC)\n",
      "Ministério da Agricultura e Pecuária\n",
      "Ministério da Ciência, Tecnologia e Inovações - MCTI\n",
      "Ministério da Cultura\n",
      "Ministério da Defesa - MD\n",
      "Ministério da Economia - ME\n",
      "Ministério da Educação - MEC\n",
      "Ministério da Fazenda\n",
      "Ministério da Gestão e da Inovação em Serviços Públicos\n",
      "Ministério da Integração e do Desenvolvimento Regional\n",
      "Ministério da Pesca e Aquicultura\n",
      "Ministério da Saúde\n",
      "Ministério das Cidades\n",
      "Ministério das Comunicações\n",
      "Ministério das Relações Exteriores - MRE\n",
      "Ministério de Minas e Energia\n",
      "Ministério do Desenvolvimento Agrário e Agricultura Familiar\n",
      "Ministério do Desenvolvimento e Assistência Social, Família e Combate à Fome\n",
      "Ministério do Desenvolvimento, Indústria, Comércio e Serviços\n",
      "Ministério do Esporte - ME\n",
      "Ministério do Meio Ambiente e Mudança do Clima\n",
      "Ministério do Planejamento e Orçamento\n",
      "Ministério do Trabalho e Emprego\n",
      "Ministério do Turismo - MTur\n",
      "Ministério dos Direitos Humanos e da Cidadania\n",
      "Museu Paraense Emílio Goeldi - MPEG\n",
      "Polícia Federal\n",
      "Polícia Rodoviária Federal\n",
      "Prefeitura Municipal de Bituruna\n",
      "Prefeitura Municipal de Fortaleza\n",
      "Prefeitura Municipal de Mallet\n",
      "Prefeitura Municipal de Quitandinha\n",
      "Prefeitura de Belo Horizonte - PBH\n",
      "Prefeitura de Florianópolis - PMF\n",
      "Previdência Social\n",
      "Reúsos de Dados Abertos\n",
      "Secretaria Especial de Comunicação Social - SECOM\n",
      "Secretaria de Governo - SEGOV/PR\n",
      "Senado Federal - SF\n",
      "Superintendência Nacional de Previdência Complementar - PREVIC \n",
      "Superintendência da Zona Franca de Manaus - SUFRAMA\n",
      "Superintendência de Desenvolvimento do Centro-Oeste - SUDECO\n",
      "Superintendência de Seguros Privados - SUSEP\n",
      "Superintendência do Desenvolvimento da Amazônia\n",
      "Tribunal Superior Eleitoral - TSE\n",
      "Tribunal de Contas do Estado de São Paulo - TCE-SP\n",
      "Tribunal de Contas dos Municípios do Estado do Ceará - TCM-CE\n",
      "Unimed do Brasil\n",
      "Universidade Federal Fluminense - UFF\n",
      "Universidade Federal Rural de Pernambuco - UFRPE\n",
      "Universidade Federal Rural do Semi-Árido - UFERSA-RN\n",
      "Universidade Federal da Fronteira Sul\n",
      "Universidade Federal de Alfenas – UNIFAL-MG\n",
      "Universidade Federal de Campina Grande\n",
      "Universidade Federal de Ciências da Saúde de Porto Alegre - UFCSPA\n",
      "Universidade Federal de Itajubá\n",
      "Universidade Federal de Juiz de Fora\n",
      "Universidade Federal de Lavras\n",
      "Universidade Federal de Mato Grosso do Sul - UFMS\n",
      "Universidade Federal de Minas Gerais - UFMG\n",
      "Universidade Federal de Ouro Preto - UFOP\n",
      "Universidade Federal de Pelotas - UFPel\n",
      "Universidade Federal de Pernambuco\n",
      "Universidade Federal de Santa Maria - UFSM\n",
      "Universidade Federal de São Carlos - UFSCar\n",
      "Universidade Federal de São João del-Rei - UFSJ\n",
      "Universidade Federal de Uberlândia\n",
      "Universidade Federal de Viçosa\n",
      "Universidade Federal do Acre-UFAC\n",
      "Universidade Federal do Amazonas - UFAM\n",
      "Universidade Federal do Cariri - UFCA\n",
      "Universidade Federal do Ceará - UFC\n",
      "Universidade Federal do Espírito Santo - UFES\n",
      "Universidade Federal do Estado do Rio de Janeiro - UNIRIO\n",
      "Universidade Federal do Maranhão - UFMA\n",
      "Universidade Federal do Oeste da Bahia\n",
      "Universidade Federal do Pampa - UNIPAMPA\n",
      "Universidade Federal do Paraná - UFPR\n",
      "Universidade Federal do Pará\n",
      "Universidade Federal do Piauí - UFPI\n",
      "Universidade Federal do Recôncavo da Bahia - UFRB\n",
      "Universidade Federal do Rio Grande - FURG\n",
      "Universidade Federal do Rio Grande Do Sul - UFRGS\n",
      "Universidade Federal do Rio Grande do Norte - UFRN\n",
      "Universidade Federal do Rio de Janeiro (UFRJ)\n",
      "Universidade Federal do Sul da Bahia\n",
      "Universidade Federal do Sul e Sudeste do Pará - UNIFESSPA\n",
      "Universidade Federal do Triângulo Mineiro - UFTM\n",
      "Universidade Federal do Vale do São Francisco - UNIVASF\t\n",
      "Universidade Federal dos Vales do Jequitinhonha e Mucuri\n",
      "Universidade da Integração Internacional da Lusofonia Afro-Brasileira (Unilab)\n"
     ]
    }
   ],
   "source": [
    "for a in [i[0] for i in institutions][:-27]:\n",
    "    print(a)"
   ]
  },
  {
   "cell_type": "markdown",
   "id": "cbb092b8-b7f3-423b-857c-e5fa9cc7812a",
   "metadata": {},
   "source": [
    "Organizações que não tem o nome human-friendly:"
   ]
  },
  {
   "cell_type": "code",
   "execution_count": 7,
   "id": "5f98d723-f03f-4855-87b1-fa7e8f362a04",
   "metadata": {},
   "outputs": [
    {
     "name": "stdout",
     "output_type": "stream",
     "text": [
      "banco-central-do-brasil-bcb\n",
      "banco-nacional-de-desenvolvimento-economico-e-social\n",
      "caixa-economica-federal-cef\n",
      "camara-municipal-de-comodoro\n",
      "colegio-pedro-ii-cpii\n",
      "coordenacao-de-aperfeicoamento-de-pessoal-de-nivel-superior-capes\n",
      "ebserh-filial-hospital-universitario-de-santa-maria\n",
      "estado-de-alagoas-al\n",
      "estado-de-minas-gerais-mg\n",
      "exercito-brasileiro\n",
      "fundacao-casa-de-rui-barbosa-fcrb\n",
      "gsi\n",
      "hu-ufscar\n",
      "instituto-federal-de-educacao-ciencia-e-tecnologia-do-amazonas-ifam\n",
      "instituto-federal-de-educacao-ciencia-e-tecnologia-do-rio-grande-do-sul-ifrs\n",
      "instituto-nacional-de-estudos-e-pesquisas-educacionais-anisio-teixeira-inep\n",
      "ipea\n",
      "ministerio-da-infraestrutura-minfra\n",
      "ministerio-da-previdencia-social\n",
      "mjsp\n",
      "museu-de-astronomia-e-ciencias-afins-mast\n",
      "prefeitura-municipal-de-mogi-das-cruzes\n",
      "secretaria-geral-sgpr\n",
      "superintendencia-do-desenvolvimento-do-nordeste-sudene\n",
      "tribunal-de-contas-da-uniao-tcu\n",
      "universidade-federal-de-sao-paulo\n",
      "universidade-federal-goias\n"
     ]
    }
   ],
   "source": [
    "for a in [i[0] for i in institutions][-27:]:\n",
    "    print(a)"
   ]
  },
  {
   "cell_type": "markdown",
   "id": "932ae7d1-a5d4-460f-a47f-4f73229baaf3",
   "metadata": {},
   "source": [
    "## ETL topic data"
   ]
  },
  {
   "cell_type": "code",
   "execution_count": 8,
   "id": "55c05033-1c1d-4e9a-a0a2-89fa9fdcd450",
   "metadata": {},
   "outputs": [],
   "source": [
    "# CGU topics:\n",
    "cgu_topics_raw = load_json('../dados/aux/temas_cgu_v1.json')\n",
    "cgu_topics = [c['title'] for c in cgu_topics_raw]"
   ]
  },
  {
   "cell_type": "code",
   "execution_count": 8,
   "id": "46cbabfc-9007-4db6-a228-5d5f9961b35e",
   "metadata": {},
   "outputs": [],
   "source": [
    "# CORDATA v01 topics:\n",
    "with open('../dados/aux/temas_cordata_v1.json', 'r') as f:\n",
    "    cordata_topics = [line.rstrip() for line in f]"
   ]
  },
  {
   "cell_type": "code",
   "execution_count": 15,
   "id": "0f1fccb6-2651-4910-a47f-1692469b46e4",
   "metadata": {},
   "outputs": [],
   "source": [
    "# Manually created translation dict:\n",
    "cordata2cgu = {'Agropecuária':'Agricultura, extrativismo e pesca',\n",
    "               'Administração Pública':'Governo e Política',\n",
    "               'Alimentação':'Assistência e Desenvolvimento Social',\n",
    "               'Arte e Cultura':'Cultura, Lazer e Esporte',\n",
    "               'Atividade industrial, de comércio ou serviços':'Comércio, Serviços e Turismo',\n",
    "               'Ciência e Tecnologia':'Ciência, Informação e Comunicação',\n",
    "               'Comunicações':'Ciência, Informação e Comunicação',\n",
    "               'Consumo':'Economia e Finanças',\n",
    "               'Dados demográficos':'Dados Estratégicos',\n",
    "               'Defesa':'Defesa e Segurança',\n",
    "               'Direito e Processual Penal':'Justiça e Legislação',\n",
    "               'Direitos Humanos':'Assistência e Desenvolvimento Social',\n",
    "               'Economia':'Economia e Finanças',\n",
    "               'Esporte':'Cultura, Lazer e Esporte',\n",
    "               'Finanças e Orçamento Público':'Economia e Finanças',\n",
    "               'Imóveis, Habitação e Urbanismo':'Habitação, Saneamento e Urbanismo',\n",
    "               'Justiça e Direito':'Justiça e Legislação',\n",
    "               'Lazer':'Cultura, Lazer e Esporte',\n",
    "               'Multimídia':'Cultura, Lazer e Esporte',\n",
    "               'Política, Partidos e Eleições':'Governo e Política',\n",
    "               'Política, Partidos e Eleições': 'Governo e Política',\n",
    "                'Previdência e Assistência Social': 'Assistência e Desenvolvimento Social',\n",
    "                'Processo Legislativo': 'Governo e Política',\n",
    "                'Recursos hídricos': 'Meio Ambiente',\n",
    "                'Recursos minerais': 'Economia e Finanças',\n",
    "                'Redes Sociais': 'Ciência, Informação e Comunicação',\n",
    "                'Religião': 'Cultura, Lazer e Esporte',\n",
    "                'Segurança': 'Defesa e Segurança',\n",
    "                'Terras': 'Geografia',\n",
    "                'Trabalho e Emprego': 'Trabalho',\n",
    "                'Transparência': 'Governo e Política',\n",
    "                'Transporte': 'Transportes e Trânsito',\n",
    "                'Turismo': 'Comércio, Serviços e Turismo'\n",
    "               }"
   ]
  },
  {
   "cell_type": "code",
   "execution_count": 89,
   "id": "8889b760-59b7-4715-8359-b9a88fec2e31",
   "metadata": {},
   "outputs": [
    {
     "data": {
      "text/plain": [
       "22"
      ]
     },
     "execution_count": 89,
     "metadata": {},
     "output_type": "execute_result"
    }
   ],
   "source": [
    "len(cgu_topics)"
   ]
  },
  {
   "cell_type": "code",
   "execution_count": 45,
   "id": "35863d8b-6bad-455a-9c52-9d6df40ec1a3",
   "metadata": {},
   "outputs": [
    {
     "name": "stdout",
     "output_type": "stream",
     "text": [
      "Agricultura, extrativismo e pesca\n",
      "Assistência e Desenvolvimento Social\n",
      "Ciência, Informação e Comunicação\n",
      "Comércio, Serviços e Turismo\n",
      "Cultura, Lazer e Esporte\n",
      "Dados Estratégicos\n",
      "Defesa e Segurança\n",
      "Economia e Finanças\n",
      "Educação\n",
      "Energia\n",
      "Equipamentos Públicos\n",
      "Geografia\n",
      "Governo e Política\n",
      "Habitação, Saneamento e Urbanismo\n",
      "Indústria\n",
      "Justiça e Legislação\n",
      "Meio Ambiente\n",
      "Plano Plurianual\n",
      "Relações Internacionais\n",
      "Saúde\n",
      "Trabalho\n",
      "Transportes e Trânsito\n"
     ]
    }
   ],
   "source": [
    "for t in cgu_topics:\n",
    "    print(t)"
   ]
  },
  {
   "cell_type": "markdown",
   "id": "b699d455-826a-440a-a335-cea8f3d5d38c",
   "metadata": {},
   "source": [
    "### List all topics"
   ]
  },
  {
   "cell_type": "code",
   "execution_count": 53,
   "id": "c96021db-8b69-43f2-b59c-5c99f19f2193",
   "metadata": {},
   "outputs": [],
   "source": [
    "import pandas as pd\n",
    "\n",
    "import clean as cc"
   ]
  },
  {
   "cell_type": "code",
   "execution_count": 54,
   "id": "83329280-390b-442d-8b36-8bd0a3f050dd",
   "metadata": {},
   "outputs": [],
   "source": [
    "# Load translations:\n",
    "translation_df = pd.read_excel('../docs/conteudo_site/textos_site_traducao_traduzidos_v04.xlsx', sheet_name='Site')\n",
    "\n",
    "# Build translators:\n",
    "tema_map = cc.get_translator(translation_df, r'filtro_tema_\\d')"
   ]
  },
  {
   "cell_type": "code",
   "execution_count": 59,
   "id": "3afa7197-f92e-4003-939a-015e3a5aa57e",
   "metadata": {},
   "outputs": [],
   "source": [
    "def wrap(topics):\n",
    "    usecase = {'topics': topics}\n",
    "    data = [usecase]\n",
    "    meta = {'data':data}\n",
    "    return meta"
   ]
  },
  {
   "cell_type": "code",
   "execution_count": 60,
   "id": "651f5b0d-4f75-4564-891c-29f4c2a4c6fb",
   "metadata": {},
   "outputs": [],
   "source": [
    "# Save to file:\n",
    "if True:\n",
    "    with open('/home/hxavier/temp/cgu_topics.json', 'w') as f:\n",
    "        json.dump(wrap(cgu_topics), f, ensure_ascii=False, indent=2)"
   ]
  },
  {
   "cell_type": "code",
   "execution_count": 61,
   "id": "76d56bb8-da88-4111-b99d-eb8c908dd1d6",
   "metadata": {},
   "outputs": [],
   "source": [
    "es = [tema_map[t] for t in cgu_topics]"
   ]
  },
  {
   "cell_type": "code",
   "execution_count": 62,
   "id": "03fb7540-a2f0-4ba8-afe0-37a4f2388bfd",
   "metadata": {},
   "outputs": [],
   "source": [
    "# Save to file:\n",
    "if True:\n",
    "    with open('/home/hxavier/temp/cgu_topics_es.json', 'w') as f:\n",
    "        json.dump(wrap(es), f, ensure_ascii=False, indent=2)"
   ]
  },
  {
   "cell_type": "code",
   "execution_count": 64,
   "id": "5921a3bf-36ad-4c4d-84b6-ca21319b206c",
   "metadata": {},
   "outputs": [],
   "source": [
    "# Check if JSON is correct after manual modification:\n",
    "check_ok = load_json('../dados/limpos/usecases_n12_2024-01-02.json')"
   ]
  },
  {
   "cell_type": "markdown",
   "id": "b4c28edd-bc82-40e1-83db-cb6b0bb6d9ba",
   "metadata": {},
   "source": [
    "### Checks"
   ]
  },
  {
   "cell_type": "code",
   "execution_count": 19,
   "id": "e32c4c7b-f8fe-444e-8ae9-858ccf5a674e",
   "metadata": {},
   "outputs": [
    {
     "data": {
      "text/plain": [
       "{'Educação', 'Energia', 'Meio Ambiente', 'Relações Internacionais', 'Saúde'}"
      ]
     },
     "execution_count": 19,
     "metadata": {},
     "output_type": "execute_result"
    }
   ],
   "source": [
    "set(cordata_topics) - set(cordata2cgu.keys())"
   ]
  },
  {
   "cell_type": "code",
   "execution_count": 24,
   "id": "06234e2d-b1c2-4a63-8253-e048c5fb85c0",
   "metadata": {},
   "outputs": [
    {
     "data": {
      "text/plain": [
       "{'Educação',\n",
       " 'Energia',\n",
       " 'Equipamentos Públicos',\n",
       " 'Indústria',\n",
       " 'Plano Plurianual',\n",
       " 'Relações Internacionais',\n",
       " 'Saúde'}"
      ]
     },
     "execution_count": 24,
     "metadata": {},
     "output_type": "execute_result"
    }
   ],
   "source": [
    "set(cgu_topics) - set(cordata2cgu.values())"
   ]
  },
  {
   "cell_type": "code",
   "execution_count": 23,
   "id": "0d9fd360-5a74-4465-95a1-6f0088827dd5",
   "metadata": {},
   "outputs": [
    {
     "data": {
      "text/plain": [
       "set()"
      ]
     },
     "execution_count": 23,
     "metadata": {},
     "output_type": "execute_result"
    }
   ],
   "source": [
    "set(cordata2cgu.values()) - set(cgu_topics)"
   ]
  },
  {
   "cell_type": "code",
   "execution_count": 27,
   "id": "46942fcf-6021-4e27-aedc-b836216a7950",
   "metadata": {},
   "outputs": [],
   "source": [
    "extra_trad = sorted(list(set(cgu_topics) - set(cordata_topics)))"
   ]
  },
  {
   "cell_type": "markdown",
   "id": "9789760a-3d5b-4134-afb1-ebfa15a93229",
   "metadata": {},
   "source": [
    "### Exports"
   ]
  },
  {
   "cell_type": "code",
   "execution_count": 31,
   "id": "e1281f53-7952-480a-929f-be539dfda01f",
   "metadata": {},
   "outputs": [
    {
     "name": "stdout",
     "output_type": "stream",
     "text": [
      "Agricultura, extrativismo e pesca\n",
      "Assistência e Desenvolvimento Social\n",
      "Ciência, Informação e Comunicação\n",
      "Comércio, Serviços e Turismo\n",
      "Cultura, Lazer e Esporte\n",
      "Dados Estratégicos\n",
      "Defesa e Segurança\n",
      "Economia e Finanças\n",
      "Equipamentos Públicos\n",
      "Geografia\n",
      "Governo e Política\n",
      "Habitação, Saneamento e Urbanismo\n",
      "Indústria\n",
      "Justiça e Legislação\n",
      "Plano Plurianual\n",
      "Trabalho\n",
      "Transportes e Trânsito\n"
     ]
    }
   ],
   "source": [
    "# For exporting to Excel for translation:\n",
    "for t in extra_trad:\n",
    "    print(t)"
   ]
  }
 ],
 "metadata": {
  "kernelspec": {
   "display_name": "Python 3 (ipykernel)",
   "language": "python",
   "name": "python3"
  },
  "language_info": {
   "codemirror_mode": {
    "name": "ipython",
    "version": 3
   },
   "file_extension": ".py",
   "mimetype": "text/x-python",
   "name": "python",
   "nbconvert_exporter": "python",
   "pygments_lexer": "ipython3",
   "version": "3.8.10"
  }
 },
 "nbformat": 4,
 "nbformat_minor": 5
}
