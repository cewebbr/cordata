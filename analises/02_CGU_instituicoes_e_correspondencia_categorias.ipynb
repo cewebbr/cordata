{
 "cells": [
  {
   "cell_type": "markdown",
   "id": "9625038d-3dde-47a6-b548-91af32897665",
   "metadata": {},
   "source": [
    "# Padronização dos dados com o Portal Brasileiro de Dados Abertos (CGU)\n",
    "### Limpeza da lista de instituições e construção da correspondência entre temas da CGU e da Câmara dos Deputados"
   ]
  },
  {
   "cell_type": "markdown",
   "id": "8998de28-5631-40a7-a24f-00a601272ad7",
   "metadata": {},
   "source": [
    "Queremos padronizar o que for possível dos nossos dados com os dados daqui: <https://dados.gov.br/dados/reusos>. "
   ]
  },
  {
   "cell_type": "code",
   "execution_count": 1,
   "id": "eeb6bcdc-0fc0-487f-91bc-feb6b7a08984",
   "metadata": {},
   "outputs": [],
   "source": [
    "import json"
   ]
  },
  {
   "cell_type": "markdown",
   "id": "62c321c8-4fbe-4acc-9b4c-cc284f6bd7cd",
   "metadata": {},
   "source": [
    "## Functions"
   ]
  },
  {
   "cell_type": "code",
   "execution_count": 2,
   "id": "1b43ef56-9ff3-4e9a-b354-f5fcfa25bd60",
   "metadata": {},
   "outputs": [],
   "source": [
    "def load_json(filename):\n",
    "    \n",
    "    with open(filename, 'r') as f:\n",
    "        data = json.load(f)\n",
    "    \n",
    "    return data"
   ]
  },
  {
   "cell_type": "markdown",
   "id": "4da8e071-96f5-4c0e-868d-a83c406bb57b",
   "metadata": {
    "tags": []
   },
   "source": [
    "## ETL institution data"
   ]
  },
  {
   "cell_type": "code",
   "execution_count": 77,
   "id": "80729026-850e-4bb5-a05d-1dfd25c33788",
   "metadata": {},
   "outputs": [],
   "source": [
    "from glob import glob\n",
    "from collections import defaultdict"
   ]
  },
  {
   "cell_type": "code",
   "execution_count": 85,
   "id": "4f9b3472-e9ac-4cbc-9ec0-5882bb98b169",
   "metadata": {},
   "outputs": [],
   "source": [
    "# Load institution names:\n",
    "inst_files = glob('../dados/aux/organizacao_*.json')\n",
    "institutions = []\n",
    "ids = []\n",
    "for f in inst_files:\n",
    "    institutions += [(i['titulo'], i['id']) for i in load_json(f)]\n",
    "# Sort list:\n",
    "institutions = sorted(institutions)\n",
    "# Create translator (name > ID):\n",
    "inst2id = defaultdict(lambda: None, dict(institutions))"
   ]
  },
  {
   "cell_type": "code",
   "execution_count": 88,
   "id": "9c99cc53-2124-4bc3-8898-c112c06ed0f0",
   "metadata": {},
   "outputs": [
    {
     "data": {
      "text/plain": [
       "[('Advocacia-Geral da União - AGU', '96791cba-af6a-4f90-9ac4-7c74e1ab9ee4'),\n",
       " ('Agência Espacial Brasileira - AEB', '637b53d0-a807-4742-8ab7-3813f0f860a9'),\n",
       " ('Agência Nacional de Aviação Civil - ANAC',\n",
       "  'd5bc559a-beda-4f1e-92ea-380bd5ef12a2'),\n",
       " ('Agência Nacional de Energia Elétrica - ANEEL',\n",
       "  '729e2446-e5a9-4ecf-a2d4-ac08235f55fc'),\n",
       " ('Agência Nacional de Mineração', 'dc10a958-f3a0-4afa-acb4-adea38437f7f'),\n",
       " ('Agência Nacional de Saúde Suplementar',\n",
       "  '3d6aab5a-3179-4c4a-b84a-59e0d54d1c1a'),\n",
       " ('Agência Nacional de Telecomunicações',\n",
       "  '5fbc22fd-5842-4bde-b48e-669c4ec95317'),\n",
       " ('Agência Nacional de Transportes Aquaviários',\n",
       "  '37b91e7c-2d92-43a8-b26f-f5df18c0a903'),\n",
       " ('Agência Nacional de Transportes Terrestres',\n",
       "  '7e70b268-dd67-4cbd-bfba-c27206f1602b'),\n",
       " ('Agência Nacional de Vigilância Sanitária - ANVISA',\n",
       "  '1a04b59b-c243-40d8-95f8-5cf3e10e4aea'),\n",
       " ('Agência Nacional de Águas e Saneamento Básico',\n",
       "  '39868dc2-d6b8-4b89-84e4-692c2fe17b25'),\n",
       " ('Agência Nacional do Cinema', '89819e7c-7e75-4af0-a4dc-6414aa17cb0d'),\n",
       " ('Agência Nacional do Petróleo, Gás Natural e Biocombustíveis - ANP',\n",
       "  '88609f8c-a0ee-46eb-9294-f2175a6b561e'),\n",
       " ('Arquivo Nacional - AN', 'a84ac121-a2a6-47be-abb8-67f88c8e7a96'),\n",
       " ('Assembleia Legislativa de Minas Gerais - ALMG',\n",
       "  'c167643a-7b6f-4d8d-9d4b-e3b46b2cde91'),\n",
       " ('Casa Civil da Presidência da República',\n",
       "  'e82d7bd3-f983-4987-a8f7-96013733a6f5'),\n",
       " ('Centro Federal de Educação Tecnológica - Celso Suckow da Fonseca - CEFET-RJ',\n",
       "  '36912ad8-7781-4177-959f-bb6359768eb0'),\n",
       " ('Centro Federal de Educação Tecnológica de Minas Gerais - CEFET-MG',\n",
       "  '8a92c97c-0b00-42dd-a09a-0cd79cc832a4'),\n",
       " ('Centro de Tecnologia Mineral', '179933d0-cc0b-42d9-8ba4-dd41a697e3f7'),\n",
       " ('Centro de Tecnologia da Informação Renato Archer',\n",
       "  '87d5f0df-35cd-41aa-ab31-01975f7e7637'),\n",
       " ('Comissão de Valores Mobiliários', '87b25628-5ebb-47cc-ac69-2b97db61d914'),\n",
       " ('Conselho Administrativo de Defesa Econômica - Cade',\n",
       "  '694a1442-f585-40dc-8cbd-72b557877b3d'),\n",
       " ('Conselho Nacional de Desenvolvimento Científico e Tecnológico',\n",
       "  '31b8aff2-363e-4ba8-9247-61e64f42da4d'),\n",
       " ('Conselho Nacional do Ministério Público - CNMP',\n",
       "  '13376e72-828c-481d-982d-50804b490389'),\n",
       " ('Conselho de Arquitetura e Urbanismo de São Paulo - CAU/SP',\n",
       "  '724c43dc-cfaf-420f-871e-105fe7bd26af'),\n",
       " ('Conselho de Controle de Atividades Financeiras',\n",
       "  'd73e57af-6a5a-4e20-aba2-e05358e24fba'),\n",
       " ('Controladoria-Geral da União', '539d7aca-df8e-4033-ad9d-191444f1322d'),\n",
       " ('Câmara Municipal de São Paulo - CMSP',\n",
       "  'c4977e09-5130-423b-90b7-a0da68e1ddb6'),\n",
       " ('Câmara dos Deputados - CD', 'aac6e633-2622-4059-aded-9a0b540e06cb'),\n",
       " ('Departamento Nacional de Infraestrutura de Transportes - DNIT',\n",
       "  'e37d717d-ff90-49c1-baba-17d4b8eec70a'),\n",
       " ('Distrito Federal', 'ac03360b-5ca0-4ecd-a068-b27021fbcc41'),\n",
       " ('EBSERH - Filial Maternidade Escola Januário Cicco',\n",
       "  '3be82d50-e85e-40ab-a666-608888153661'),\n",
       " ('Empresa Brasileira de Pesquisa Agropecuária - Embrapa',\n",
       "  '2f7957ca-1e42-4d11-ac18-61f942b44b72'),\n",
       " ('Empresa Mato-Grossense de Tecnologia da Informação',\n",
       "  'fd0a7274-7f68-4e78-866d-c7cb91da7afe'),\n",
       " ('Empresa de Pesquisa Energética - EPE',\n",
       "  'c11b2d75-d954-4b12-972a-b03948e52914'),\n",
       " ('Escola Nacional de Administração Pública - ENAP',\n",
       "  '7120cde5-9af9-42bf-87c4-e41aae7016a6'),\n",
       " ('Escola Superior de Guerra', '989da276-1ec4-45b1-8009-1c2a2118bba9'),\n",
       " ('Estado da Bahia - BA', 'a960ee53-50c0-4bc7-8d49-387a0a97fc4e'),\n",
       " ('Estado de Pernambuco - PE', '97d9e315-f1c8-44bf-9f65-2fa39bff72af'),\n",
       " ('Estado de São Paulo - SP', '1a2dd74f-ed1f-45a7-ac69-16224d6e5690'),\n",
       " ('Estado do Rio Grande do Sul - RS', '968ab005-2fcf-4657-9099-217763bb442f'),\n",
       " ('Faculdade Metropolis - MP', '19850f9a-153c-4698-a333-76620cca05cd'),\n",
       " ('Força Aérea Brasileira', '1598dc20-23a4-46a8-87a1-46f65f9e408f'),\n",
       " ('Fundação Alexandre de Gusmão - FUNAG',\n",
       "  '6218bba8-2908-4b9c-a088-1bc701f128fd'),\n",
       " ('Fundação Biblioteca Nacional - FBN',\n",
       "  '63ec8282-45bb-46a6-aab0-ce02945eaf1f'),\n",
       " ('Fundação Cultural Palmares - FCP', 'c60f3742-ade2-41b7-98b8-b3fc9d740f85'),\n",
       " ('Fundação Joaquim Nabuco - FUNDAJ', 'f8c55919-9883-4a18-99ff-82269a13de23'),\n",
       " ('Fundação Jorge Duprat Figueiredo, de Segurança e Medicina do Trabalho - FUNDACENTRO',\n",
       "  'f0f51f0f-6ea9-4107-b835-d1f1fe953962'),\n",
       " ('Fundação Nacional de Artes - FUNARTE',\n",
       "  '697c27c7-4bea-409a-a7a9-b6cac5fee360'),\n",
       " ('Fundação Nacional de Saúde - Funasa',\n",
       "  '37761481-72d3-4562-9b80-4178860f73cd'),\n",
       " ('Fundação Nacional do Índio - FUNAI',\n",
       "  'a80b914d-4201-4366-8842-7b6b0d18b1f8'),\n",
       " ('Fundação Oswaldo Cruz', '79211437-f6fc-4659-93eb-74afeaa35f4b'),\n",
       " ('Fundação Universidade Federal da Grande Dourados (UFGD)',\n",
       "  'f3de2c15-5660-49c6-9dcf-52f50af49cb6'),\n",
       " ('Fundação Universidade Federal de Roraima',\n",
       "  '37f904a5-16f4-49ac-8ce5-007d44d2bd5b'),\n",
       " ('Fundação Universidade Federal de Sergipe - UFS',\n",
       "  'de7493ff-b079-42ac-a63b-698650ba3bfc'),\n",
       " ('Fundação Universidade Federal do ABC - UFABC',\n",
       "  '0a457a01-2693-436e-9a45-048fa570eddb'),\n",
       " ('Fundação Universidade Federal do Amapá',\n",
       "  '636df1ac-5024-44b0-a31d-7c0ce990e131'),\n",
       " ('Fundação Universidade de Brasília - UnB',\n",
       "  'ba3298c4-7f2a-401b-940d-6a7d93dd01f9'),\n",
       " ('Fundo Nacional de Desenvolvimento da Educação',\n",
       "  '0c3511cf-1560-43eb-a5dc-b114b1fe253a'),\n",
       " ('Governo do Estado de Santa Catarina',\n",
       "  '439d8334-e710-456c-b396-019c3be55075'),\n",
       " ('HUPES - Complexo Hospitalar Universitário Professor Edgard Santos',\n",
       "  'dacd39b0-49c9-4e64-8002-21510e8cc502'),\n",
       " ('Hospital Escola da Universidade Federal de Pelotas - HE/UFPEL',\n",
       "  '87e75ead-0b62-49cd-91b6-dcbffa0ae18d'),\n",
       " ('Hospital Universitário Doutor Miguel Riet Corrêa Júnior',\n",
       "  'f1880522-fcd8-4afa-ab51-6380f25c54da'),\n",
       " ('Hospital Universitário Getúlio Vargas - UFAM',\n",
       "  '5a2a7403-1153-4cc6-8423-b626c5f9b978'),\n",
       " ('Hospital Universitário Júlio Maria Bandeira de Mello - HUJB/UFCG',\n",
       "  '248b35ef-a119-4fe6-841b-b721daf9c5a5'),\n",
       " ('Hospital Universitário Júlio Müller - HUJM',\n",
       "  '30e6fab6-1c18-4a92-b0fd-2461cbe0d9f2'),\n",
       " ('Hospital Universitário Maria Aparecida Pedrossian',\n",
       "  '9fe9a608-85d4-4c55-8102-4dfc91bf3178'),\n",
       " ('Hospital Universitário Walter Cantídio da Universidade Federal do Ceará (CH-UFC)',\n",
       "  'c40cb115-79d1-490d-ac1f-6d6e2d2029ab'),\n",
       " ('Hospital Universitário da Universidade Federal da Grande Dourados - HU-UFGD',\n",
       "  '746361da-3d2d-48db-9f97-5a5631ddfe1b'),\n",
       " ('Hospital Universitário da Universidade Federal do Maranhão',\n",
       "  '6d346d1d-6a5f-4d06-8ec9-cd2e890842ef'),\n",
       " ('Hospital Universitário da Universidade Federal do Piauí - HU-UFPI',\n",
       "  'e1a0ada1-be43-4310-a8b9-016483fc41f7'),\n",
       " ('Hospital Universitário da Universidade Federal do Vale do São Francisco  - HU-Univasf ',\n",
       "  '40757d53-acbd-4592-9825-dacd1306d7b3'),\n",
       " ('Hospital Universitário de Brasília - HUB-UnB',\n",
       "  'a8a2df4c-6fba-42c7-a4bd-d839df84c4c2'),\n",
       " ('Hospital Universitário de Lagarto - HUL-UFS',\n",
       "  '7618889e-ce50-4be1-a155-5618bf2d202d'),\n",
       " ('Hospital das Clínicas da Universidade Federal de Pernambuco - HC-UFPE',\n",
       "  '29f0e1b3-18e7-4967-aa3c-9dbe79d1976a'),\n",
       " ('Hospital das Clínicas da Universidade Federal do Triângulo Mineiro (HC-UFTM)',\n",
       "  '9f51dcab-057f-4ca9-a9bd-fb03a3f2ce05'),\n",
       " ('Hospital das Forças Armadas - HFA', '9ddf9fda-43be-4cc2-9515-835d62621434'),\n",
       " ('Hospital de Doenças Tropicais/UFT', '5ddafac5-2064-406b-b02e-b42bf7d1fb21'),\n",
       " ('Imprensa Nacional - IN', '797fa8c8-9703-46be-aaad-ab72fd0c820a'),\n",
       " ('Instituto Benjamin Constant', '206e127a-faa0-4031-95c2-c641d40bac6d'),\n",
       " ('Instituto Brasileiro de Geografia e Estatística - IBGE',\n",
       "  '0a2ede4a-4c54-4303-af0a-6d163e242c15'),\n",
       " ('Instituto Brasileiro de Informação em Ciência e Tecnologia - IBICT',\n",
       "  '1fc43e2e-1908-414f-b2f3-6f3506b8deb0'),\n",
       " ('Instituto Brasileiro de Museus - IBRAM',\n",
       "  '188fef45-78e8-4a25-ad6d-d28b5edc59ad'),\n",
       " ('Instituto Brasileiro do Meio Ambiente e dos Recursos Naturais Renováveis - Ibama',\n",
       "  'a23655ff-7129-48e9-9645-96cff725b450'),\n",
       " ('Instituto Brasileiro do Turismo - Embratur',\n",
       "  '1dc11b7b-13f4-4a87-a6f8-de92d8e2283e'),\n",
       " ('Instituto Chico Mendes de Conservação da Biodiversidade - ICMBio',\n",
       "  'a144dc5c-3a19-4630-a65f-8484dc46e844'),\n",
       " ('Instituto Federal de Alagoas - IFAL',\n",
       "  '139d9bf7-d59e-4513-af60-f6080a113584'),\n",
       " ('Instituto Federal de Educação, Ciência e Tecnologia Baiano - IFBAIANO',\n",
       "  'e177471a-6b73-411f-aa21-4ba94977aa26'),\n",
       " ('Instituto Federal de Educação, Ciência e Tecnologia Catarinense - IFC',\n",
       "  '22a056b5-8187-4747-ada3-1db71c7d9166'),\n",
       " ('Instituto Federal de Educação, Ciência e Tecnologia Farroupilha - IFFAR',\n",
       "  '9ce40463-21f0-4683-81d0-1cf97a906867'),\n",
       " ('Instituto Federal de Educação, Ciência e Tecnologia Goiano - IF-GOIANO',\n",
       "  '6f9bfad9-ceca-4f6f-b49a-aeadbe31e96f'),\n",
       " ('Instituto Federal de Educação, Ciência e Tecnologia Sul-Rio-Grandense',\n",
       "  '5c2fbb8c-7ca1-4b38-85bf-95cf91e7a7aa'),\n",
       " ('Instituto Federal de Educação, Ciência e Tecnologia da Bahia - IFBA',\n",
       "  'f7826af5-5ab0-442c-ac3a-d94910eb1746'),\n",
       " ('Instituto Federal de Educação, Ciência e Tecnologia da Paraíba - IFPB',\n",
       "  '458f22b1-1d1a-42c4-8a88-bbf6deee3c1b'),\n",
       " ('Instituto Federal de Educação, Ciência e Tecnologia de Brasília - IFB',\n",
       "  'eefbc6ec-291f-4656-ab16-fe9c9f2ba437'),\n",
       " ('Instituto Federal de Educação, Ciência e Tecnologia de Goiás - IFG',\n",
       "  'd7583180-b8ee-4f4e-a747-8845640aa1b5'),\n",
       " ('Instituto Federal de Educação, Ciência e Tecnologia de Mato Grosso - IFMT',\n",
       "  '9f879f36-6223-4ba6-99f1-830d51780f71'),\n",
       " ('Instituto Federal de Educação, Ciência e Tecnologia de Minas Gerais - IFMG',\n",
       "  '2ead56b7-90d9-4003-938c-ecd787499805'),\n",
       " ('Instituto Federal de Educação, Ciência e Tecnologia de Pernambuco - IFPE',\n",
       "  '1662d7ce-e279-4daa-8a40-bcb0b30981d7'),\n",
       " ('Instituto Federal de Educação, Ciência e Tecnologia de Rondônia - IFRO',\n",
       "  '7725e286-8b89-43cc-85d7-8019e390c2c3'),\n",
       " ('Instituto Federal de Educação, Ciência e Tecnologia de Roraima - IFRR',\n",
       "  'b1e948de-d0d9-416e-acff-51dc754e3076'),\n",
       " ('Instituto Federal de Educação, Ciência e Tecnologia de Santa Catarina - IFSC',\n",
       "  'e83a2e06-f12b-41b1-816b-8e182c6461ed'),\n",
       " ('Instituto Federal de Educação, Ciência e Tecnologia de Sergipe - IFS',\n",
       "  '873ff766-9ca6-41a5-97c9-d966dbc168f7'),\n",
       " ('Instituto Federal de Educação, Ciência e Tecnologia de São Paulo',\n",
       "  '50f90714-63b9-4af3-a03d-8578c75abf29'),\n",
       " ('Instituto Federal de Educação, Ciência e Tecnologia do Acre - IFAC',\n",
       "  '05739ceb-581b-49aa-b633-bc8f5c05e1b1'),\n",
       " ('Instituto Federal de Educação, Ciência e Tecnologia do Amapá - IFAP',\n",
       "  'c91342a4-e395-4fb5-bf8c-316ae09af110'),\n",
       " ('Instituto Federal de Educação, Ciência e Tecnologia do Ceará - IFCE',\n",
       "  '6cc195ed-0b9e-4a75-b948-8a26ef3c3fdc'),\n",
       " ('Instituto Federal de Educação, Ciência e Tecnologia do Mato Grosso do Sul - IFMS',\n",
       "  '9d2a5545-e91c-4f6e-b09d-1850daff648b'),\n",
       " ('Instituto Federal de Educação, Ciência e Tecnologia do Norte de Minas Gerais - IFNMG',\n",
       "  'bfd39f51-fd68-43c0-8260-92f646a35f96'),\n",
       " ('Instituto Federal de Educação, Ciência e Tecnologia do Paraná',\n",
       "  '98cda18f-d4b2-4afa-9453-2021ff4755a3'),\n",
       " ('Instituto Federal de Educação, Ciência e Tecnologia do Pará - IFPA',\n",
       "  'e66ba4e6-4d1e-4674-80c4-b3a31fdf877b'),\n",
       " ('Instituto Federal de Educação, Ciência e Tecnologia do Rio Grande do Norte - IFRN',\n",
       "  '4f6fde13-051d-41b7-ab91-0cb387522448'),\n",
       " ('Instituto Federal de Educação, Ciência e Tecnologia do Rio de Janeiro - IFRJ',\n",
       "  '32cf9f72-6e66-4520-b3bf-47d17b77e718'),\n",
       " ('Instituto Federal de Educação, Ciência e Tecnologia do Sertão Pernambucano - IFSPE',\n",
       "  'd58b99aa-7c9d-4a61-b309-546656af3c63'),\n",
       " ('Instituto Federal de Educação, Ciência e Tecnologia do Sudeste de Minas Gerais',\n",
       "  'c007b518-57e0-40b9-8f0c-85428a8205ed'),\n",
       " ('Instituto Federal de Educação, Ciência e Tecnologia do Sul de Minas Gerais - IFSULDEMINAS',\n",
       "  '95eb284f-e803-4299-a170-73d430b43d3a'),\n",
       " ('Instituto Federal de Educação, Ciência e Tecnologia do Triângulo Mineiro - IFTM',\n",
       "  '30130244-1aed-480d-89ba-d34b2a313a36'),\n",
       " ('Instituto Federal do Espírito Santo-IFES',\n",
       "  '8d68091e-44cc-4d88-92bf-118386503bd2'),\n",
       " ('Instituto Federal do Piauí - IFPI', '8060ed7a-0a2b-4759-9041-e5d889d757b2'),\n",
       " ('Instituto Nacional da Propriedade Industrial - INPI',\n",
       "  '6fddb467-7b6c-4691-9ec1-2fb35229bf56'),\n",
       " ('Instituto Nacional de Colonização e Reforma Agrária',\n",
       "  'b9d39756-8762-4591-92ec-b12a44be7377'),\n",
       " ('Instituto Nacional de Metrologia, Qualidade e Tecnologia',\n",
       "  'a94e53da-6e60-4c32-8687-d1c910b908be'),\n",
       " ('Instituto Nacional de Pesquisas Espaciais - INPE',\n",
       "  '1af7832b-c710-4384-814a-93cc1ea40cc0'),\n",
       " ('Instituto Nacional de Pesquisas da Amazônia - INPA',\n",
       "  '9b5efe54-7b28-4fdd-874e-7dd668892b0d'),\n",
       " ('Instituto Nacional de Tecnologia', 'c4286261-68c8-4b06-b249-7e010a7bdcc9'),\n",
       " ('Instituto Nacional de Tecnologia da Informação - ITI',\n",
       "  '2b6b462e-a88e-4c68-bcca-3b556a99d593'),\n",
       " ('Instituto Nacional do Seguro Social',\n",
       "  '51b6b5ce-16a9-4839-b9f5-af4a6fb34747'),\n",
       " ('Instituto de Desenvolvimento Urbano de Canaã dos Carajás',\n",
       "  '506b27b5-2938-4e6b-b761-2297576d4d5f'),\n",
       " ('Instituto de Pesquisas Jardim Botânico do Rio de Janeiro - JBRJ',\n",
       "  '47b8ba96-35ec-4293-aa2b-fe3dad0be9d7'),\n",
       " ('Instituto do Patrimônio Histórico e Artístico Nacional - IPHAN',\n",
       "  'b7e1a036-23eb-4b35-b4ea-21b28c856114'),\n",
       " ('Marinha do Brasil', '96d64e12-f982-48b0-afd5-12795a9bef9d'),\n",
       " ('Maternidade Climério de Oliveira (MCO-UFBA/Ebserh)',\n",
       "  '181490a5-8257-44de-9c38-9cd231a0b584'),\n",
       " ('Maternidade Escola Assis Chateaubriand da Universidade Federal do Ceará (CH-UFC)',\n",
       "  '17af2f3b-46a1-4d41-a6f0-00d693b6bf79'),\n",
       " ('Ministério da Agricultura e Pecuária',\n",
       "  '4d7eccb0-fcfb-4cc7-8930-c1e419eabad9'),\n",
       " ('Ministério da Ciência, Tecnologia e Inovações - MCTI',\n",
       "  '894b1654-f94a-471d-a5c7-5de58096fd27'),\n",
       " ('Ministério da Cultura', '092a0be2-5ba0-4f9a-ad17-0293e302e70e'),\n",
       " ('Ministério da Defesa - MD', '6e79a7e1-fbbb-4e9e-8b21-552bcaa6e703'),\n",
       " ('Ministério da Economia - ME', 'fadff597-55a0-4619-8a81-cfecc9c0c2bb'),\n",
       " ('Ministério da Educação - MEC', '9bce2b20-68f1-4946-9f15-216cd5d169d1'),\n",
       " ('Ministério da Fazenda', '97bc0c8b-a7bf-49e0-a311-4db4ad897a10'),\n",
       " ('Ministério da Gestão e da Inovação em Serviços Públicos',\n",
       "  '1c290bc9-fa8f-459e-a61a-d758d59d25f4'),\n",
       " ('Ministério da Integração e do Desenvolvimento Regional',\n",
       "  'c86211e1-5a7a-4c14-a216-80bd7cc813aa'),\n",
       " ('Ministério da Pesca e Aquicultura', '8673fa2c-682a-4f57-aae5-35c4cbfb4545'),\n",
       " ('Ministério da Saúde', '5b283f30-ced3-4ccc-b44a-406e8a92e1ad'),\n",
       " ('Ministério das Cidades', '13fd6676-b886-4eb9-9445-cdd89409b128'),\n",
       " ('Ministério das Comunicações', '091f6df0-1c61-45be-9458-ad08ec5a60ec'),\n",
       " ('Ministério das Relações Exteriores - MRE',\n",
       "  '9d0702e4-a015-4e7d-b16d-fcc826abc9d4'),\n",
       " ('Ministério de Minas e Energia', '3c9a789f-1498-4cac-9cee-db899fd7c6f5'),\n",
       " ('Ministério do Desenvolvimento Agrário e Agricultura Familiar',\n",
       "  '492374d8-a1a7-4722-bb08-0a08175f2843'),\n",
       " ('Ministério do Desenvolvimento e Assistência Social, Família e Combate à Fome',\n",
       "  'c6da56e5-166d-46b7-9c37-4af22fa081ff'),\n",
       " ('Ministério do Desenvolvimento, Indústria, Comércio e Serviços',\n",
       "  '8f216a66-e88a-4a61-bfb5-81aa808c88c3'),\n",
       " ('Ministério do Esporte - ME', 'd0673d09-1824-44b1-98c7-7fdb1e7c1693'),\n",
       " ('Ministério do Meio Ambiente e Mudança do Clima',\n",
       "  '82576b35-ac59-4d29-96f3-b355c365ab87'),\n",
       " ('Ministério do Planejamento e Orçamento',\n",
       "  '79c34eca-673b-4b69-b633-ddd0ad3249fb'),\n",
       " ('Ministério do Trabalho e Emprego', '4d85a83b-f8da-499c-a5b0-be5927a83653'),\n",
       " ('Ministério do Turismo - MTur', 'a82d80df-99eb-42ba-be06-49a9c644fd8f'),\n",
       " ('Ministério dos Direitos Humanos e da Cidadania',\n",
       "  'c4591604-2071-4f13-a2a0-6bd57ffebbcb'),\n",
       " ('Museu Paraense Emílio Goeldi - MPEG',\n",
       "  '8e718eb6-d84f-4d3c-a14d-fd68a3f623e9'),\n",
       " ('Polícia Federal', '800a04d7-ca7c-49b3-940f-e83327724b3e'),\n",
       " ('Polícia Rodoviária Federal', '3f3bece6-cec0-4677-b22a-40ca44cbbf12'),\n",
       " ('Prefeitura Municipal de Bituruna', '47d65678-4314-4cce-9588-43bede580b4e'),\n",
       " ('Prefeitura Municipal de Fortaleza', '456c33ed-5c18-4a2c-a2ea-b76600e22d94'),\n",
       " ('Prefeitura Municipal de Mallet', 'ffce99e4-3d0b-49ab-b4ec-26cb5f803c2f'),\n",
       " ('Prefeitura Municipal de Quitandinha',\n",
       "  '8da20b6b-0325-4306-a466-f2d503d2a4e1'),\n",
       " ('Prefeitura de Belo Horizonte - PBH',\n",
       "  'b9d31793-6399-4537-874d-b025512f82a2'),\n",
       " ('Prefeitura de Florianópolis - PMF', '809aaf5f-a1d3-42bc-b7de-0b41ca070727'),\n",
       " ('Previdência Social', 'c9344eec-9f66-4965-b69d-47f275aa8ebd'),\n",
       " ('Reúsos de Dados Abertos', '6855be4c-a26a-47da-a7c6-50df16b6e544'),\n",
       " ('Secretaria Especial de Comunicação Social - SECOM',\n",
       "  'fb170476-2708-424e-b3ac-540aac03fe34'),\n",
       " ('Secretaria de Governo - SEGOV/PR', 'ccc18cb6-d9fb-492c-a732-f8db030e9469'),\n",
       " ('Senado Federal - SF', 'be5f3647-e90f-4703-8d20-e674760febd9'),\n",
       " ('Superintendência Nacional de Previdência Complementar - PREVIC ',\n",
       "  '7ed8e3d7-057c-48b5-b5df-cfed33681de6'),\n",
       " ('Superintendência da Zona Franca de Manaus - SUFRAMA',\n",
       "  '5220afbc-0189-4d09-a4d6-f3c6ecbf6826'),\n",
       " ('Superintendência de Desenvolvimento do Centro-Oeste - SUDECO',\n",
       "  '2da1b8fc-f635-4125-b7b6-35f59a2f6e82'),\n",
       " ('Superintendência de Seguros Privados - SUSEP',\n",
       "  'ee91737d-ce94-4acf-aad3-9bfd903cddcb'),\n",
       " ('Superintendência do Desenvolvimento da Amazônia',\n",
       "  'ce2508f7-80d5-4fc3-90c6-451423267e8a'),\n",
       " ('Tribunal Superior Eleitoral - TSE', '5282ffee-bb55-4d77-8e13-840e05f7da07'),\n",
       " ('Tribunal de Contas do Estado de São Paulo - TCE-SP',\n",
       "  'f35e882a-fd73-42d2-96c1-51443808675b'),\n",
       " ('Tribunal de Contas dos Municípios do Estado do Ceará - TCM-CE',\n",
       "  'fbe00741-3cc3-4773-b3c5-8e8e6d6c9c7b'),\n",
       " ('Unimed do Brasil', 'cf393200-bdb0-47a5-893b-2b38d37670e5'),\n",
       " ('Universidade Federal Fluminense - UFF',\n",
       "  'a0065258-83f6-4bc8-ba91-0176a58e8132'),\n",
       " ('Universidade Federal Rural de Pernambuco - UFRPE',\n",
       "  'ef812184-dea1-41ec-9b3a-a84c8f5bdc16'),\n",
       " ('Universidade Federal Rural do Semi-Árido - UFERSA-RN',\n",
       "  'b5ab727e-ee72-45dd-8d17-1f95a7e4b7eb'),\n",
       " ('Universidade Federal da Fronteira Sul',\n",
       "  'd6200a34-422d-4bcc-844d-434545a30f30'),\n",
       " ('Universidade Federal de Alfenas – UNIFAL-MG',\n",
       "  '5d79e8ca-daff-4060-95e0-a9018d2be7ec'),\n",
       " ('Universidade Federal de Campina Grande',\n",
       "  '98d8f716-e638-4b33-861c-9fc0239dbe03'),\n",
       " ('Universidade Federal de Ciências da Saúde de Porto Alegre - UFCSPA',\n",
       "  'd444af7e-4954-473e-a6fe-3d60542abe0c'),\n",
       " ('Universidade Federal de Itajubá', '95a908ce-b263-46df-a68b-db57834b88be'),\n",
       " ('Universidade Federal de Juiz de Fora',\n",
       "  'a355920b-1629-4c74-b150-6eecbbe9451f'),\n",
       " ('Universidade Federal de Lavras', '25cf85dc-7704-46dc-a169-254419d52525'),\n",
       " ('Universidade Federal de Mato Grosso do Sul - UFMS',\n",
       "  'd30ff380-86e1-4fc5-8781-61254809636f'),\n",
       " ('Universidade Federal de Minas Gerais - UFMG',\n",
       "  '5eb1ca3e-f485-494e-b917-57dba5d4095a'),\n",
       " ('Universidade Federal de Ouro Preto - UFOP',\n",
       "  '532acee5-760c-4ab5-b8d7-e7cfcb2e7ae6'),\n",
       " ('Universidade Federal de Pelotas - UFPel',\n",
       "  'da606717-fef3-4bbc-956c-9de65ecf7363'),\n",
       " ('Universidade Federal de Pernambuco',\n",
       "  'abde75e6-ed25-4d0e-b7e7-cfd1ecf88d2f'),\n",
       " ('Universidade Federal de Santa Maria - UFSM',\n",
       "  'cc1278fb-2df5-4fe1-8f95-8ebccde51285'),\n",
       " ('Universidade Federal de São Carlos - UFSCar',\n",
       "  'e5e89538-9323-471e-b26c-0df843da6d25'),\n",
       " ('Universidade Federal de São João del-Rei - UFSJ',\n",
       "  'd2767cff-2e37-48a9-864a-22fccc308a67'),\n",
       " ('Universidade Federal de Uberlândia',\n",
       "  '54dd1fcc-29b3-4255-8a74-7c1a73ccb0d0'),\n",
       " ('Universidade Federal de Viçosa', 'bdc666b0-c847-4c75-9db7-444929e0556c'),\n",
       " ('Universidade Federal do Acre-UFAC', '0b553a57-865a-493f-9077-d9cb77edebe6'),\n",
       " ('Universidade Federal do Amazonas - UFAM',\n",
       "  'f3b24386-dfa9-4d75-a163-816b6f9151eb'),\n",
       " ('Universidade Federal do Cariri - UFCA',\n",
       "  'b8306b7d-54be-472c-80c0-bffae2d261fc'),\n",
       " ('Universidade Federal do Ceará - UFC',\n",
       "  '3a8a6dde-fef9-478d-9a66-52eb84bf1264'),\n",
       " ('Universidade Federal do Espírito Santo - UFES',\n",
       "  '1ad331b9-0630-49b8-8a0d-4299a5188466'),\n",
       " ('Universidade Federal do Estado do Rio de Janeiro - UNIRIO',\n",
       "  '353d387c-f6e9-4625-a5fb-942da91a355f'),\n",
       " ('Universidade Federal do Maranhão - UFMA',\n",
       "  'ebbad3bd-6f6b-4a1a-afc5-dff82752c851'),\n",
       " ('Universidade Federal do Oeste da Bahia',\n",
       "  '89963392-e072-4826-97f7-9a14d3c9f2be'),\n",
       " ('Universidade Federal do Pampa - UNIPAMPA',\n",
       "  '5a386055-602b-4812-a8d6-cf0c7f9aca11'),\n",
       " ('Universidade Federal do Paraná - UFPR',\n",
       "  '32fa2c2f-fac8-4e42-89ea-2f92dfcf94a2'),\n",
       " ('Universidade Federal do Pará', '735b22bb-3196-4b0f-b21d-886bfa5898e3'),\n",
       " ('Universidade Federal do Piauí - UFPI',\n",
       "  '77073e00-c543-48d6-8c34-2e942377a165'),\n",
       " ('Universidade Federal do Recôncavo da Bahia - UFRB',\n",
       "  '7a77a30d-e998-429c-819c-67ea3916c442'),\n",
       " ('Universidade Federal do Rio Grande - FURG',\n",
       "  '10bdeaa5-6745-48ab-aaca-92307d4391b5'),\n",
       " ('Universidade Federal do Rio Grande Do Sul - UFRGS',\n",
       "  '175d1905-4431-477a-b61a-19c020e661bc'),\n",
       " ('Universidade Federal do Rio Grande do Norte - UFRN',\n",
       "  'c0dd9ea9-d067-4d8d-97d9-8016f29873aa'),\n",
       " ('Universidade Federal do Rio de Janeiro (UFRJ)',\n",
       "  '9467ad28-3695-4ecc-a218-516158c8ee5a'),\n",
       " ('Universidade Federal do Sul da Bahia',\n",
       "  '5d2cc360-51a9-44a4-84cf-e52bdd9304f7'),\n",
       " ('Universidade Federal do Sul e Sudeste do Pará - UNIFESSPA',\n",
       "  'a9517513-655c-4f14-bc83-104bb99d84f2'),\n",
       " ('Universidade Federal do Triângulo Mineiro - UFTM',\n",
       "  'f8cf877e-a8ee-4f95-be4e-7538fd88425d'),\n",
       " ('Universidade Federal do Vale do São Francisco - UNIVASF\\t',\n",
       "  '75027cc5-f9b9-4851-b858-cdf4173aef58'),\n",
       " ('Universidade Federal dos Vales do Jequitinhonha e Mucuri',\n",
       "  'f972c43e-e7ee-4fd3-9dde-f3b84b9ea4f2'),\n",
       " ('Universidade da Integração Internacional da Lusofonia Afro-Brasileira (Unilab)',\n",
       "  '7df15f4a-a9ee-4fae-81df-bd4f3a0bb724'),\n",
       " ('banco-central-do-brasil-bcb', '63004daf-cafd-4bc2-9b67-a43fdb636564'),\n",
       " ('banco-nacional-de-desenvolvimento-economico-e-social',\n",
       "  '421fcaca-2872-4e11-9f55-a653db9875d9'),\n",
       " ('caixa-economica-federal-cef', '028848f3-33e4-4a5f-ad0a-1802113610e3'),\n",
       " ('camara-municipal-de-comodoro', '52610c40-6c0c-4083-a62f-9ba7688a7ec0'),\n",
       " ('colegio-pedro-ii-cpii', 'f5b2296b-f7bd-421e-945d-59934e41f41c'),\n",
       " ('coordenacao-de-aperfeicoamento-de-pessoal-de-nivel-superior-capes',\n",
       "  '0844176f-1146-4687-ae28-049879a9c1b4'),\n",
       " ('ebserh-filial-hospital-universitario-de-santa-maria',\n",
       "  '0bd4adbb-0f45-4630-b58e-d4383b0c2c42'),\n",
       " ('estado-de-alagoas-al', '0bf70fd6-0730-445d-af78-d45c83d6a51e'),\n",
       " ('estado-de-minas-gerais-mg', '1d3f473a-72a3-4d40-a036-c489ae5a5e56'),\n",
       " ('exercito-brasileiro', '0670e150-cff5-476b-a618-0537a848b7ed'),\n",
       " ('fundacao-casa-de-rui-barbosa-fcrb', '05690c77-cf2c-4a9c-bb58-99827b9a9590'),\n",
       " ('gsi', '5669453f-412e-480c-b8ee-f651216c87b4'),\n",
       " ('hu-ufscar', '1da81dea-8cdf-4683-9852-c5be35a91779'),\n",
       " ('instituto-federal-de-educacao-ciencia-e-tecnologia-do-amazonas-ifam',\n",
       "  '008945aa-7ac9-4023-b04f-8d57286a7dd6'),\n",
       " ('instituto-federal-de-educacao-ciencia-e-tecnologia-do-rio-grande-do-sul-ifrs',\n",
       "  '05837375-7752-4999-b7c0-4277a1100309'),\n",
       " ('instituto-nacional-de-estudos-e-pesquisas-educacionais-anisio-teixeira-inep',\n",
       "  '0ed8cf54-90fa-454d-bdcc-879648a34e93'),\n",
       " ('ipea', '9682a084-6702-4bfc-9cec-7a46a37c1fbc'),\n",
       " ('ministerio-da-infraestrutura-minfra',\n",
       "  '02840def-849e-4bbd-ac98-bfebeecd303d'),\n",
       " ('ministerio-da-previdencia-social', '65162d7e-c426-45cb-9b92-683ad4913114'),\n",
       " ('mjsp', 'f87ea35d-5a6f-413d-89d8-fd0d9405e81c'),\n",
       " ('museu-de-astronomia-e-ciencias-afins-mast',\n",
       "  '122ee197-001a-4cfa-b0d6-4f5d2af7253b'),\n",
       " ('prefeitura-municipal-de-mogi-das-cruzes',\n",
       "  '22ea712d-69ff-44e7-9071-f8e118ff419d'),\n",
       " ('secretaria-geral-sgpr', '26af1d6d-17a0-4731-979b-20aa5a307230'),\n",
       " ('superintendencia-do-desenvolvimento-do-nordeste-sudene',\n",
       "  '1f0238b0-c887-41a0-bda0-f71081d4d4f3'),\n",
       " ('tribunal-de-contas-da-uniao-tcu', '0d533e53-3cff-4d3c-a330-9dce991b191b'),\n",
       " ('universidade-federal-de-sao-paulo', '110d523c-e58f-40b4-b720-9e8b8024f900'),\n",
       " ('universidade-federal-goias', '0615e40b-7164-48af-8f8c-628b64f37816')]"
      ]
     },
     "execution_count": 88,
     "metadata": {},
     "output_type": "execute_result"
    }
   ],
   "source": [
    "institutions"
   ]
  },
  {
   "cell_type": "markdown",
   "id": "16df4e0e-24ac-44f0-8a4d-f8a8e13b35b3",
   "metadata": {},
   "source": [
    "### Checks"
   ]
  },
  {
   "cell_type": "code",
   "execution_count": 40,
   "id": "6f741f70-3f28-45c8-963c-ecdd51dc58b1",
   "metadata": {},
   "outputs": [
    {
     "data": {
      "text/plain": [
       "True"
      ]
     },
     "execution_count": 40,
     "metadata": {},
     "output_type": "execute_result"
    }
   ],
   "source": [
    "len(institutions) == len(set(institutions))"
   ]
  },
  {
   "cell_type": "code",
   "execution_count": null,
   "id": "ad2bc92b-8fe0-4df1-8149-a4e1448ed86c",
   "metadata": {},
   "outputs": [],
   "source": []
  },
  {
   "cell_type": "markdown",
   "id": "932ae7d1-a5d4-460f-a47f-4f73229baaf3",
   "metadata": {},
   "source": [
    "## ETL topic data"
   ]
  },
  {
   "cell_type": "code",
   "execution_count": 8,
   "id": "55c05033-1c1d-4e9a-a0a2-89fa9fdcd450",
   "metadata": {},
   "outputs": [],
   "source": [
    "# CGU topics:\n",
    "cgu_topics_raw = load_json('../dados/aux/temas_cgu_v1.json')\n",
    "cgu_topics = [c['title'] for c in cgu_topics_raw]"
   ]
  },
  {
   "cell_type": "code",
   "execution_count": 8,
   "id": "46cbabfc-9007-4db6-a228-5d5f9961b35e",
   "metadata": {},
   "outputs": [],
   "source": [
    "# CORDATA v01 topics:\n",
    "with open('../dados/aux/temas_cordata_v1.json', 'r') as f:\n",
    "    cordata_topics = [line.rstrip() for line in f]"
   ]
  },
  {
   "cell_type": "code",
   "execution_count": 15,
   "id": "0f1fccb6-2651-4910-a47f-1692469b46e4",
   "metadata": {},
   "outputs": [],
   "source": [
    "# Manually created translation dict:\n",
    "cordata2cgu = {'Agropecuária':'Agricultura, extrativismo e pesca',\n",
    "               'Administração Pública':'Governo e Política',\n",
    "               'Alimentação':'Assistência e Desenvolvimento Social',\n",
    "               'Arte e Cultura':'Cultura, Lazer e Esporte',\n",
    "               'Atividade industrial, de comércio ou serviços':'Comércio, Serviços e Turismo',\n",
    "               'Ciência e Tecnologia':'Ciência, Informação e Comunicação',\n",
    "               'Comunicações':'Ciência, Informação e Comunicação',\n",
    "               'Consumo':'Economia e Finanças',\n",
    "               'Dados demográficos':'Dados Estratégicos',\n",
    "               'Defesa':'Defesa e Segurança',\n",
    "               'Direito e Processual Penal':'Justiça e Legislação',\n",
    "               'Direitos Humanos':'Assistência e Desenvolvimento Social',\n",
    "               'Economia':'Economia e Finanças',\n",
    "               'Esporte':'Cultura, Lazer e Esporte',\n",
    "               'Finanças e Orçamento Público':'Economia e Finanças',\n",
    "               'Imóveis, Habitação e Urbanismo':'Habitação, Saneamento e Urbanismo',\n",
    "               'Justiça e Direito':'Justiça e Legislação',\n",
    "               'Lazer':'Cultura, Lazer e Esporte',\n",
    "               'Multimídia':'Cultura, Lazer e Esporte',\n",
    "               'Política, Partidos e Eleições':'Governo e Política',\n",
    "               'Política, Partidos e Eleições': 'Governo e Política',\n",
    "                'Previdência e Assistência Social': 'Assistência e Desenvolvimento Social',\n",
    "                'Processo Legislativo': 'Governo e Política',\n",
    "                'Recursos hídricos': 'Meio Ambiente',\n",
    "                'Recursos minerais': 'Economia e Finanças',\n",
    "                'Redes Sociais': 'Ciência, Informação e Comunicação',\n",
    "                'Religião': 'Cultura, Lazer e Esporte',\n",
    "                'Segurança': 'Defesa e Segurança',\n",
    "                'Terras': 'Geografia',\n",
    "                'Trabalho e Emprego': 'Trabalho',\n",
    "                'Transparência': 'Governo e Política',\n",
    "                'Transporte': 'Transportes e Trânsito',\n",
    "                'Turismo': 'Comércio, Serviços e Turismo'\n",
    "               }"
   ]
  },
  {
   "cell_type": "code",
   "execution_count": 89,
   "id": "8889b760-59b7-4715-8359-b9a88fec2e31",
   "metadata": {},
   "outputs": [
    {
     "data": {
      "text/plain": [
       "22"
      ]
     },
     "execution_count": 89,
     "metadata": {},
     "output_type": "execute_result"
    }
   ],
   "source": [
    "len(cgu_topics)"
   ]
  },
  {
   "cell_type": "code",
   "execution_count": 45,
   "id": "35863d8b-6bad-455a-9c52-9d6df40ec1a3",
   "metadata": {},
   "outputs": [
    {
     "name": "stdout",
     "output_type": "stream",
     "text": [
      "Agricultura, extrativismo e pesca\n",
      "Assistência e Desenvolvimento Social\n",
      "Ciência, Informação e Comunicação\n",
      "Comércio, Serviços e Turismo\n",
      "Cultura, Lazer e Esporte\n",
      "Dados Estratégicos\n",
      "Defesa e Segurança\n",
      "Economia e Finanças\n",
      "Educação\n",
      "Energia\n",
      "Equipamentos Públicos\n",
      "Geografia\n",
      "Governo e Política\n",
      "Habitação, Saneamento e Urbanismo\n",
      "Indústria\n",
      "Justiça e Legislação\n",
      "Meio Ambiente\n",
      "Plano Plurianual\n",
      "Relações Internacionais\n",
      "Saúde\n",
      "Trabalho\n",
      "Transportes e Trânsito\n"
     ]
    }
   ],
   "source": [
    "for t in cgu_topics:\n",
    "    print(t)"
   ]
  },
  {
   "cell_type": "markdown",
   "id": "b699d455-826a-440a-a335-cea8f3d5d38c",
   "metadata": {},
   "source": [
    "### List all topics"
   ]
  },
  {
   "cell_type": "code",
   "execution_count": 53,
   "id": "c96021db-8b69-43f2-b59c-5c99f19f2193",
   "metadata": {},
   "outputs": [],
   "source": [
    "import pandas as pd\n",
    "\n",
    "import clean as cc"
   ]
  },
  {
   "cell_type": "code",
   "execution_count": 54,
   "id": "83329280-390b-442d-8b36-8bd0a3f050dd",
   "metadata": {},
   "outputs": [],
   "source": [
    "# Load translations:\n",
    "translation_df = pd.read_excel('../docs/conteudo_site/textos_site_traducao_traduzidos_v04.xlsx', sheet_name='Site')\n",
    "\n",
    "# Build translators:\n",
    "tema_map = cc.get_translator(translation_df, r'filtro_tema_\\d')"
   ]
  },
  {
   "cell_type": "code",
   "execution_count": 59,
   "id": "3afa7197-f92e-4003-939a-015e3a5aa57e",
   "metadata": {},
   "outputs": [],
   "source": [
    "def wrap(topics):\n",
    "    usecase = {'topics': topics}\n",
    "    data = [usecase]\n",
    "    meta = {'data':data}\n",
    "    return meta"
   ]
  },
  {
   "cell_type": "code",
   "execution_count": 60,
   "id": "651f5b0d-4f75-4564-891c-29f4c2a4c6fb",
   "metadata": {},
   "outputs": [],
   "source": [
    "# Save to file:\n",
    "if True:\n",
    "    with open('/home/hxavier/temp/cgu_topics.json', 'w') as f:\n",
    "        json.dump(wrap(cgu_topics), f, ensure_ascii=False, indent=2)"
   ]
  },
  {
   "cell_type": "code",
   "execution_count": 61,
   "id": "76d56bb8-da88-4111-b99d-eb8c908dd1d6",
   "metadata": {},
   "outputs": [],
   "source": [
    "es = [tema_map[t] for t in cgu_topics]"
   ]
  },
  {
   "cell_type": "code",
   "execution_count": 62,
   "id": "03fb7540-a2f0-4ba8-afe0-37a4f2388bfd",
   "metadata": {},
   "outputs": [],
   "source": [
    "# Save to file:\n",
    "if True:\n",
    "    with open('/home/hxavier/temp/cgu_topics_es.json', 'w') as f:\n",
    "        json.dump(wrap(es), f, ensure_ascii=False, indent=2)"
   ]
  },
  {
   "cell_type": "code",
   "execution_count": 64,
   "id": "5921a3bf-36ad-4c4d-84b6-ca21319b206c",
   "metadata": {},
   "outputs": [],
   "source": [
    "# Check if JSON is correct after manual modification:\n",
    "check_ok = load_json('../dados/limpos/usecases_n12_2024-01-02.json')"
   ]
  },
  {
   "cell_type": "markdown",
   "id": "b4c28edd-bc82-40e1-83db-cb6b0bb6d9ba",
   "metadata": {},
   "source": [
    "### Checks"
   ]
  },
  {
   "cell_type": "code",
   "execution_count": 19,
   "id": "e32c4c7b-f8fe-444e-8ae9-858ccf5a674e",
   "metadata": {},
   "outputs": [
    {
     "data": {
      "text/plain": [
       "{'Educação', 'Energia', 'Meio Ambiente', 'Relações Internacionais', 'Saúde'}"
      ]
     },
     "execution_count": 19,
     "metadata": {},
     "output_type": "execute_result"
    }
   ],
   "source": [
    "set(cordata_topics) - set(cordata2cgu.keys())"
   ]
  },
  {
   "cell_type": "code",
   "execution_count": 24,
   "id": "06234e2d-b1c2-4a63-8253-e048c5fb85c0",
   "metadata": {},
   "outputs": [
    {
     "data": {
      "text/plain": [
       "{'Educação',\n",
       " 'Energia',\n",
       " 'Equipamentos Públicos',\n",
       " 'Indústria',\n",
       " 'Plano Plurianual',\n",
       " 'Relações Internacionais',\n",
       " 'Saúde'}"
      ]
     },
     "execution_count": 24,
     "metadata": {},
     "output_type": "execute_result"
    }
   ],
   "source": [
    "set(cgu_topics) - set(cordata2cgu.values())"
   ]
  },
  {
   "cell_type": "code",
   "execution_count": 23,
   "id": "0d9fd360-5a74-4465-95a1-6f0088827dd5",
   "metadata": {},
   "outputs": [
    {
     "data": {
      "text/plain": [
       "set()"
      ]
     },
     "execution_count": 23,
     "metadata": {},
     "output_type": "execute_result"
    }
   ],
   "source": [
    "set(cordata2cgu.values()) - set(cgu_topics)"
   ]
  },
  {
   "cell_type": "code",
   "execution_count": 27,
   "id": "46942fcf-6021-4e27-aedc-b836216a7950",
   "metadata": {},
   "outputs": [],
   "source": [
    "extra_trad = sorted(list(set(cgu_topics) - set(cordata_topics)))"
   ]
  },
  {
   "cell_type": "markdown",
   "id": "9789760a-3d5b-4134-afb1-ebfa15a93229",
   "metadata": {},
   "source": [
    "### Exports"
   ]
  },
  {
   "cell_type": "code",
   "execution_count": 31,
   "id": "e1281f53-7952-480a-929f-be539dfda01f",
   "metadata": {},
   "outputs": [
    {
     "name": "stdout",
     "output_type": "stream",
     "text": [
      "Agricultura, extrativismo e pesca\n",
      "Assistência e Desenvolvimento Social\n",
      "Ciência, Informação e Comunicação\n",
      "Comércio, Serviços e Turismo\n",
      "Cultura, Lazer e Esporte\n",
      "Dados Estratégicos\n",
      "Defesa e Segurança\n",
      "Economia e Finanças\n",
      "Equipamentos Públicos\n",
      "Geografia\n",
      "Governo e Política\n",
      "Habitação, Saneamento e Urbanismo\n",
      "Indústria\n",
      "Justiça e Legislação\n",
      "Plano Plurianual\n",
      "Trabalho\n",
      "Transportes e Trânsito\n"
     ]
    }
   ],
   "source": [
    "# For exporting to Excel for translation:\n",
    "for t in extra_trad:\n",
    "    print(t)"
   ]
  },
  {
   "cell_type": "code",
   "execution_count": null,
   "id": "b3fa375f-c177-471a-94b3-6ff840003322",
   "metadata": {},
   "outputs": [],
   "source": []
  }
 ],
 "metadata": {
  "kernelspec": {
   "display_name": "Python 3 (ipykernel)",
   "language": "python",
   "name": "python3"
  },
  "language_info": {
   "codemirror_mode": {
    "name": "ipython",
    "version": 3
   },
   "file_extension": ".py",
   "mimetype": "text/x-python",
   "name": "python",
   "nbconvert_exporter": "python",
   "pygments_lexer": "ipython3",
   "version": "3.8.10"
  }
 },
 "nbformat": 4,
 "nbformat_minor": 5
}
